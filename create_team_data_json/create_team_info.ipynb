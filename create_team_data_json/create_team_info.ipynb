{
 "cells": [
  {
   "cell_type": "code",
   "execution_count": 92,
   "id": "07dbdbc7",
   "metadata": {},
   "outputs": [],
   "source": [
    "import json"
   ]
  },
  {
   "cell_type": "code",
   "execution_count": 1,
   "id": "bb475551",
   "metadata": {},
   "outputs": [],
   "source": [
    "team_info_dict = {'NL West':{'LAD':{},'SFG':{},'SDP':{},'ARI':{},'COL':{}},\n",
    "             'NL Central':{'CHC':{},'CIN':{},'STL':{},'MIL':{},'PIT':{}},\n",
    "             'NL East':{'NYM':{},'PHI':{},'MIA':{},'ATL':{},'WSN':{}},\n",
    "             'AL West':{'SEA':{},'OAK':{},'HOU':{},'LAA':{},'TEX':{}},\n",
    "             'AL Central':{'CHW':{},'CLE':{},'DET':{},'MIN':{},'KCR':{}},\n",
    "             'AL East':{'BOS':{},'TBR':{},'NYY':{},'TOR':{},'BAL':{}}}\n",
    "\n",
    "capacity_dict = {'LAD':56000,'SFG':41265,'SDP':40209,'ARI':48686,'COL':50144\n",
    "                 ,'CHC':41649,'CIN':42319,'STL':45494,'MIL':41900,'PIT':38747\n",
    "                 ,'NYM':41922,'PHI':42792,'MIA':37442,'ATL':41084,'WSN':41339\n",
    "                 ,'SEA':47929,'OAK':46765,'HOU':41168,'LAA':45517,'TEX':40300\n",
    "                 ,'CHW':40615,'CLE':35041,'DET':41083,'MIN':38544,'KCR':37903\n",
    "                 ,'BOS':37755,'TBR':42735,'NYY':52325,'TOR':16600,'BAL':45971}\n",
    "\n",
    "color_dict = {'LAD':'#002f6c','SFG':'#fa4616','SDP':'#2F241D','ARI':'#a71930','COL':'#33006F'\n",
    "              ,'CHC':'#002f6c','CIN':'#d50032','STL':'#ba0c2f','MIL':'#13294b','PIT':'#ffc72c'\n",
    "              ,'NYM':'#fc4c02','PHI':'#ba0c2f','MIA':'#00a3e0','ATL':'#002855','WSN':'#ba122b'\n",
    "              ,'SEA':'#00685e','OAK':'#003831','HOU':'#002d62','LAA':'#ba0021','TEX':'#003278'\n",
    "              ,'CHW':'#C4CED4','CLE':'#E31937','DET':'#FA4616','MIN':'#0c2341','KCR':'#004687'#DET - #0c2340, CLE - #0f223e\n",
    "              ,'BOS':'#c8102e','TBR':'#8fbce6','NYY':'#162546','TOR':'#134a8e','BAL':'#fc4c02'} # CHW - #27251f\n",
    "\n",
    "walk_score = {'LAD':22,'SFG':86,'SDP':85,'ARI':63,'COL':88\n",
    "              ,'CHC':92,'CIN':74,'STL':73,'MIL':15,'PIT':77\n",
    "              ,'NYM':50,'PHI':38,'MIA':77,'ATL':35,'WSN':86\n",
    "              ,'SEA':60,'OAK':22,'HOU':71,'LAA':39,'TEX':29\n",
    "              ,'CHW':67,'CLE':87,'DET':83,'MIN':87,'KCR':22\n",
    "              ,'BOS':96,'TBR':53,'NYY':93,'TOR':95,'BAL':81}"
   ]
  },
  {
   "cell_type": "code",
   "execution_count": 74,
   "id": "f1ac0af4",
   "metadata": {},
   "outputs": [],
   "source": [
    "def dict_construct(id,primary_color,stadium_capacity,walk_score):\n",
    "    new_dic = {id : {} }\n",
    "    values = [{'primary_color':primary_color}\n",
    "              ,{'stadium_capacity':stadium_capacity}\n",
    "              ,{'walk_score':walk_score}]\n",
    "    for val in values:\n",
    "        new_dic[id].update(val)\n",
    "    return new_dic"
   ]
  },
  {
   "cell_type": "code",
   "execution_count": 87,
   "id": "c4f544b2",
   "metadata": {},
   "outputs": [],
   "source": [
    "for division in team_dict:\n",
    "    for team in team_dict[division]:\n",
    "        color = color_dict[team]\n",
    "        capacity = capacity_dict[team]\n",
    "        walkscore = walk_score[team]\n",
    "        add_dict = dict_construct(team,color,capacity,walkscore)\n",
    "        secondary['team'].update(add_dict)\n",
    "        team_info_dict[division].update(add_dict)        \n"
   ]
  },
  {
   "cell_type": "code",
   "execution_count": 93,
   "id": "e5810c90",
   "metadata": {},
   "outputs": [],
   "source": [
    "with open('team_data.json', 'w') as outfile:\n",
    "    json.dump(team_info_dict, outfile)\n",
    "\n",
    "outfile.close()"
   ]
  },
  {
   "cell_type": "code",
   "execution_count": null,
   "id": "b0c33dd0",
   "metadata": {},
   "outputs": [],
   "source": []
  }
 ],
 "metadata": {
  "kernelspec": {
   "display_name": "Python 3",
   "language": "python",
   "name": "python3"
  },
  "language_info": {
   "codemirror_mode": {
    "name": "ipython",
    "version": 3
   },
   "file_extension": ".py",
   "mimetype": "text/x-python",
   "name": "python",
   "nbconvert_exporter": "python",
   "pygments_lexer": "ipython3",
   "version": "3.8.8"
  }
 },
 "nbformat": 4,
 "nbformat_minor": 5
}
